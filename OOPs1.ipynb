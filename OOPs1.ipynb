{
  "nbformat": 4,
  "nbformat_minor": 0,
  "metadata": {
    "colab": {
      "name": "OOPs.ipynb",
      "provenance": [],
      "collapsed_sections": [],
      "authorship_tag": "ABX9TyP195cs8SzajcwnkkC1GP1h",
      "include_colab_link": true
    },
    "kernelspec": {
      "name": "python3",
      "display_name": "Python 3"
    },
    "language_info": {
      "name": "python"
    }
  },
  "cells": [
    {
      "cell_type": "markdown",
      "metadata": {
        "id": "view-in-github",
        "colab_type": "text"
      },
      "source": [
        "<a href=\"https://colab.research.google.com/github/dineshreddy221/Python/blob/main/OOPs1.ipynb\" target=\"_parent\"><img src=\"https://colab.research.google.com/assets/colab-badge.svg\" alt=\"Open In Colab\"/></a>"
      ]
    },
    {
      "cell_type": "markdown",
      "source": [
        "$$ Object\\ Oriented\\ Programming $$"
      ],
      "metadata": {
        "id": "r7Uff5uYYbCG"
      }
    },
    {
      "cell_type": "markdown",
      "source": [
        "# class syntax"
      ],
      "metadata": {
        "id": "pxAsztesha7l"
      }
    },
    {
      "cell_type": "markdown",
      "source": [
        "* class - class is a structure or blue print of an object.\n",
        "\n",
        "* Object / Instance - Is a real world entities.\n",
        "\n",
        "class ClassName:\n",
        "      \n",
        "      Block of code \n",
        "        -constructor\n",
        "        -properties\n",
        "        -methods\n",
        "\n",
        "obj = ClassName()\n",
        "\n",
        "obj.method()"
      ],
      "metadata": {
        "id": "Mzl18yBrp66w"
      }
    },
    {
      "cell_type": "code",
      "source": [
        "class first_entry:\n",
        "  # properties\n",
        "  name = 'dinesh'\n",
        "\n",
        "  # method --> function\n",
        "  def fun_name(self):           # methods always needs a self inside paranthesis.\n",
        "    print(\"Hello world\")"
      ],
      "metadata": {
        "id": "onX177K-a4UJ"
      },
      "execution_count": 1,
      "outputs": []
    },
    {
      "cell_type": "markdown",
      "source": [
        "# object or instance creation"
      ],
      "metadata": {
        "id": "MJ5oUdh2hdxR"
      }
    },
    {
      "cell_type": "code",
      "source": [
        "# object creation \n",
        "\n",
        "obj_name = first_entry()\n",
        "print(type(obj_name))"
      ],
      "metadata": {
        "colab": {
          "base_uri": "https://localhost:8080/"
        },
        "id": "D-qB2k5Wbpfn",
        "outputId": "555d4dbf-aba4-46b6-9270-f2edc8169879"
      },
      "execution_count": 2,
      "outputs": [
        {
          "output_type": "stream",
          "name": "stdout",
          "text": [
            "<class '__main__.first_entry'>\n"
          ]
        }
      ]
    },
    {
      "cell_type": "code",
      "source": [
        "# printing the property of class\n",
        "print(obj_name.name)"
      ],
      "metadata": {
        "colab": {
          "base_uri": "https://localhost:8080/"
        },
        "id": "PTM3ymg5c-Mh",
        "outputId": "d2a0889f-7ee5-4205-b915-c0851770d78e"
      },
      "execution_count": 3,
      "outputs": [
        {
          "output_type": "stream",
          "name": "stdout",
          "text": [
            "dinesh\n"
          ]
        }
      ]
    },
    {
      "cell_type": "code",
      "source": [
        "# printing the method\n",
        "obj_name.fun_name()"
      ],
      "metadata": {
        "colab": {
          "base_uri": "https://localhost:8080/"
        },
        "id": "O_kMaabedUXj",
        "outputId": "b71d1163-0ef5-448d-8806-111958e76cfa"
      },
      "execution_count": null,
      "outputs": [
        {
          "output_type": "stream",
          "name": "stdout",
          "text": [
            "Hello world\n"
          ]
        }
      ]
    },
    {
      "cell_type": "markdown",
      "source": [
        "# even odd numbers using function"
      ],
      "metadata": {
        "id": "0KaiWCj9h5wb"
      }
    },
    {
      "cell_type": "code",
      "source": [
        "def even_odd(num):\n",
        "  ''' finding the number is even or odd. '''  # documentation\n",
        "  if num%2==0:\n",
        "    print(\"even number: {}\".format(num))\n",
        "  else:\n",
        "    print(\"odd number: {}\".format(num))"
      ],
      "metadata": {
        "id": "2ddVhTLAgRL0"
      },
      "execution_count": 4,
      "outputs": []
    },
    {
      "cell_type": "code",
      "source": [
        "# calling the funcation name with attribute.\n",
        "even_odd(4)"
      ],
      "metadata": {
        "colab": {
          "base_uri": "https://localhost:8080/"
        },
        "id": "1OOMA7nGgobk",
        "outputId": "89c41c5e-9b81-4c8c-b08f-831baf024910"
      },
      "execution_count": 5,
      "outputs": [
        {
          "output_type": "stream",
          "name": "stdout",
          "text": [
            "even number: 4\n"
          ]
        }
      ]
    },
    {
      "cell_type": "code",
      "source": [
        "# printing the doc string.\n",
        "print(even_odd.__doc__)"
      ],
      "metadata": {
        "colab": {
          "base_uri": "https://localhost:8080/"
        },
        "id": "kFYjvnkSg9HU",
        "outputId": "07a83af9-71d7-4ef6-d1a0-aa9566a0e6b5"
      },
      "execution_count": 6,
      "outputs": [
        {
          "output_type": "stream",
          "name": "stdout",
          "text": [
            " finding the number is even or odd. \n"
          ]
        }
      ]
    },
    {
      "cell_type": "code",
      "source": [
        "help(even_odd)"
      ],
      "metadata": {
        "colab": {
          "base_uri": "https://localhost:8080/"
        },
        "id": "edCGLwFNhczo",
        "outputId": "cc76fc61-c77d-4a77-a8a0-a3128502594c"
      },
      "execution_count": 8,
      "outputs": [
        {
          "output_type": "stream",
          "name": "stdout",
          "text": [
            "Help on function even_odd in module __main__:\n",
            "\n",
            "even_odd(num)\n",
            "    finding the number is even or odd.\n",
            "\n"
          ]
        }
      ]
    },
    {
      "cell_type": "markdown",
      "source": [
        "# Accesing the properties and methods"
      ],
      "metadata": {
        "id": "H8Ei-CT2iNp2"
      }
    },
    {
      "cell_type": "code",
      "source": [
        "class MyHome:\n",
        "  ''' This is my home town. '''\n",
        "  class_variable = 'Red house'\n",
        "  def display(self):   # self is mandatory in display the written content in this function\n",
        "    print(\"Welcome\")\n",
        "\n",
        "home = MyHome()     # instance creation.\n",
        "print(home.class_variable)\n",
        "\n",
        "home.display()"
      ],
      "metadata": {
        "colab": {
          "base_uri": "https://localhost:8080/"
        },
        "id": "MqSff-YaiM4J",
        "outputId": "f989f5de-bef2-43de-a9bc-782fdfdf1eb6"
      },
      "execution_count": 9,
      "outputs": [
        {
          "output_type": "stream",
          "name": "stdout",
          "text": [
            "Red house\n",
            "Welcome\n"
          ]
        }
      ]
    },
    {
      "cell_type": "code",
      "source": [
        "class MyHome:\n",
        "  ''' This is my home town. '''\n",
        "  class_variable = 'Red house'\n",
        "  def display():   # self is mandatory in display the written content in this method\n",
        "    print(\"Welcome\")\n",
        "\n",
        "home = MyHome()     # instance creation.\n",
        "print(home.class_variable)\n",
        "\n",
        "#home.display()  # to call a method we need to use paranthesis"
      ],
      "metadata": {
        "id": "EujBb0hzjjj2",
        "colab": {
          "base_uri": "https://localhost:8080/"
        },
        "outputId": "c50624a2-9933-475b-b7da-28b34d3de64c"
      },
      "execution_count": 14,
      "outputs": [
        {
          "output_type": "stream",
          "name": "stdout",
          "text": [
            "Red house\n"
          ]
        }
      ]
    },
    {
      "cell_type": "code",
      "source": [
        "# we get error if we dont self in display method.\n",
        "class MyHome:\n",
        "  ''' This is my home town. '''\n",
        "  class_variable = 'Red house'\n",
        "  def display():   # self is mandatory in display the written content in this function\n",
        "    print(\"Welcome\")\n",
        "\n",
        "home = MyHome()     # instance creation.\n",
        "print(home.class_variable)\n",
        "\n",
        "home.display()"
      ],
      "metadata": {
        "colab": {
          "base_uri": "https://localhost:8080/",
          "height": 217
        },
        "id": "DdErVWGhjHpd",
        "outputId": "987befba-6920-4ea4-99e6-45dc3591f5eb"
      },
      "execution_count": 15,
      "outputs": [
        {
          "output_type": "stream",
          "name": "stdout",
          "text": [
            "Red house\n"
          ]
        },
        {
          "output_type": "error",
          "ename": "TypeError",
          "evalue": "ignored",
          "traceback": [
            "\u001b[0;31m---------------------------------------------------------------------------\u001b[0m",
            "\u001b[0;31mTypeError\u001b[0m                                 Traceback (most recent call last)",
            "\u001b[0;32m<ipython-input-15-c87025adbb6c>\u001b[0m in \u001b[0;36m<module>\u001b[0;34m()\u001b[0m\n\u001b[1;32m      9\u001b[0m \u001b[0mprint\u001b[0m\u001b[0;34m(\u001b[0m\u001b[0mhome\u001b[0m\u001b[0;34m.\u001b[0m\u001b[0mclass_variable\u001b[0m\u001b[0;34m)\u001b[0m\u001b[0;34m\u001b[0m\u001b[0;34m\u001b[0m\u001b[0m\n\u001b[1;32m     10\u001b[0m \u001b[0;34m\u001b[0m\u001b[0m\n\u001b[0;32m---> 11\u001b[0;31m \u001b[0mhome\u001b[0m\u001b[0;34m.\u001b[0m\u001b[0mdisplay\u001b[0m\u001b[0;34m(\u001b[0m\u001b[0;34m)\u001b[0m\u001b[0;34m\u001b[0m\u001b[0;34m\u001b[0m\u001b[0m\n\u001b[0m",
            "\u001b[0;31mTypeError\u001b[0m: display() takes 0 positional arguments but 1 was given"
          ]
        }
      ]
    },
    {
      "cell_type": "markdown",
      "source": [
        "# defining a constructor in a class"
      ],
      "metadata": {
        "id": "CyjfYz6EoFBC"
      }
    },
    {
      "cell_type": "code",
      "execution_count": 16,
      "metadata": {
        "id": "yr0MrNN_YVnl"
      },
      "outputs": [],
      "source": [
        "class cars:\n",
        "  def __init__(self,color,price,transmission):  # constructor for class \n",
        "    self.color = color\n",
        "    self.price = price\n",
        "    self.transmission = transmission\n",
        "  def display(self):\n",
        "    print(self.color,self.transmission, self.price, sep='\\n')\n",
        "\n",
        "obj = cars('red',230,'manual')"
      ]
    },
    {
      "cell_type": "code",
      "source": [
        "print(obj.price)"
      ],
      "metadata": {
        "colab": {
          "base_uri": "https://localhost:8080/"
        },
        "id": "WAfXq6U_mFyi",
        "outputId": "4c8a5a9b-f635-4a3d-c3a9-00c98b140bfb"
      },
      "execution_count": 17,
      "outputs": [
        {
          "output_type": "stream",
          "name": "stdout",
          "text": [
            "230\n"
          ]
        }
      ]
    },
    {
      "cell_type": "code",
      "source": [
        "obj.display()"
      ],
      "metadata": {
        "colab": {
          "base_uri": "https://localhost:8080/"
        },
        "id": "QCs-fF0mmRU4",
        "outputId": "86dd635d-2c0c-4067-ead7-c8de48a19180"
      },
      "execution_count": 18,
      "outputs": [
        {
          "output_type": "stream",
          "name": "stdout",
          "text": [
            "red\n",
            "manual\n",
            "230\n"
          ]
        }
      ]
    },
    {
      "cell_type": "code",
      "source": [
        "# creating a new object and reusing the class code\n",
        "honda = cars(\"white\", 898,'Manual')"
      ],
      "metadata": {
        "id": "UVvTnJvym1_c"
      },
      "execution_count": 19,
      "outputs": []
    },
    {
      "cell_type": "code",
      "source": [
        "print(\"Honda price:\",honda.price)"
      ],
      "metadata": {
        "colab": {
          "base_uri": "https://localhost:8080/"
        },
        "id": "Fz4H7WlNnIq2",
        "outputId": "ac175b75-57ec-4d0c-a51f-e14a4a19d55f"
      },
      "execution_count": 20,
      "outputs": [
        {
          "output_type": "stream",
          "name": "stdout",
          "text": [
            "Honda price: 898\n"
          ]
        }
      ]
    },
    {
      "cell_type": "code",
      "source": [
        "print(honda.transmission)"
      ],
      "metadata": {
        "colab": {
          "base_uri": "https://localhost:8080/"
        },
        "id": "-bQVo0_mnKpc",
        "outputId": "71054dd7-752b-4f20-b3d7-dfdd3960fa7e"
      },
      "execution_count": 21,
      "outputs": [
        {
          "output_type": "stream",
          "name": "stdout",
          "text": [
            "Manual\n"
          ]
        }
      ]
    },
    {
      "cell_type": "code",
      "source": [
        "# Accesing the method of the class\n",
        "honda.display()"
      ],
      "metadata": {
        "colab": {
          "base_uri": "https://localhost:8080/"
        },
        "id": "6ZJwYps_nNr6",
        "outputId": "38ed2133-4f59-49d8-cbcc-76bc53a69b00"
      },
      "execution_count": 22,
      "outputs": [
        {
          "output_type": "stream",
          "name": "stdout",
          "text": [
            "white\n",
            "Manual\n",
            "898\n"
          ]
        }
      ]
    },
    {
      "cell_type": "markdown",
      "source": [
        "# Constructor"
      ],
      "metadata": {
        "id": "Obq6fO-ojjRm"
      }
    },
    {
      "cell_type": "code",
      "source": [
        "class NewHome:\n",
        "  def __init__(self):  # constructor is a special method get called automatically at object initialization\n",
        "      print(\"Constructor is called\")\n",
        "  def show(self):       # show and display gives us same\n",
        "    print(\"Successful.\")\n",
        "\n",
        "N = NewHome()\n",
        "N.show()"
      ],
      "metadata": {
        "id": "RkfweX5un2b_",
        "colab": {
          "base_uri": "https://localhost:8080/"
        },
        "outputId": "f662694e-15d0-473b-cbf3-6acb19a9477c"
      },
      "execution_count": 25,
      "outputs": [
        {
          "output_type": "stream",
          "name": "stdout",
          "text": [
            "Constructor is called\n",
            "Successful\n"
          ]
        }
      ]
    },
    {
      "cell_type": "markdown",
      "source": [
        "# Constructor with multiple parameters"
      ],
      "metadata": {
        "id": "APj0sUB0mmyf"
      }
    },
    {
      "cell_type": "code",
      "source": [
        "class Shopping:\n",
        "  def __init__(self,s,p,ts):\n",
        "    self.shirts = s\n",
        "    self.pants = p\n",
        "    self.tshirts = ts\n",
        "  def show(self):\n",
        "    print(\"shirt : {}\".format(self.shirts))\n",
        "    print(\"tshirt : {}\".format(self.tshirts))\n",
        "    print(\"pant : {}\".format(self.pants))\n",
        "\n",
        "S = Shopping(\"blue\",\"red\",\"white\") # creating the object with parameters\n",
        "S.show()"
      ],
      "metadata": {
        "colab": {
          "base_uri": "https://localhost:8080/"
        },
        "id": "3qZAsGQzmHsE",
        "outputId": "756be000-c664-4d50-a590-4ea2a5b97c73"
      },
      "execution_count": 47,
      "outputs": [
        {
          "output_type": "stream",
          "name": "stdout",
          "text": [
            "shirt : blue\n",
            "tshirt : white\n",
            "pant : red\n"
          ]
        }
      ]
    },
    {
      "cell_type": "code",
      "source": [
        "# calling the same classname with different parameters and object.\n",
        "s = Shopping(2,4,5)\n",
        "s.show()"
      ],
      "metadata": {
        "colab": {
          "base_uri": "https://localhost:8080/"
        },
        "id": "gYlXlzIznoL1",
        "outputId": "c638c786-410e-4eea-9ce5-dfedf4c68d07"
      },
      "execution_count": 50,
      "outputs": [
        {
          "output_type": "stream",
          "name": "stdout",
          "text": [
            "shirt : 2\n",
            "tshirt : 5\n",
            "pant : 4\n"
          ]
        }
      ]
    },
    {
      "cell_type": "markdown",
      "source": [
        ""
      ],
      "metadata": {
        "id": "3tNftL0ctE34"
      }
    },
    {
      "cell_type": "markdown",
      "source": [
        "# update method"
      ],
      "metadata": {
        "id": "1cbNtkFNstI0"
      }
    },
    {
      "cell_type": "code",
      "source": [
        "class Shirt:\n",
        "  def __init__(self,c,p,f):\n",
        "    self.color = c\n",
        "    self.price = p\n",
        "    self.fabric = f\n",
        "  def show(self):\n",
        "    print(\"Color : {}\".format(self.color))\n",
        "    print(\"Price : {}\".format(self.price))\n",
        "    print(\"Fabric : {}\".format(self.fabric))\n",
        "  def update(self,p):\n",
        "    self.price = p\n",
        "    print('price updated successful')\n",
        "\n",
        "Dinesh = Shirt(\"blue\",200,\"cotton\") # creating the object with parameters\n",
        "Dinesh.show()"
      ],
      "metadata": {
        "colab": {
          "base_uri": "https://localhost:8080/"
        },
        "id": "WmBq8a55pNQN",
        "outputId": "617ee2b7-5eec-4aa5-958b-ede9adc0b566"
      },
      "execution_count": 80,
      "outputs": [
        {
          "output_type": "stream",
          "name": "stdout",
          "text": [
            "Color : blue\n",
            "Price : 200\n",
            "Fabric : cotton\n"
          ]
        }
      ]
    },
    {
      "cell_type": "code",
      "source": [
        "# object data is updated using methods.\n",
        "Dinesh.update(250)"
      ],
      "metadata": {
        "colab": {
          "base_uri": "https://localhost:8080/"
        },
        "id": "tY_bEGfEtMTX",
        "outputId": "4a0d6bed-0336-4cad-d850-a0074300dee4"
      },
      "execution_count": 81,
      "outputs": [
        {
          "output_type": "stream",
          "name": "stdout",
          "text": [
            "price updated successful\n"
          ]
        }
      ]
    },
    {
      "cell_type": "code",
      "source": [
        "Dinesh.show()"
      ],
      "metadata": {
        "colab": {
          "base_uri": "https://localhost:8080/"
        },
        "id": "f9v6g3xStZWF",
        "outputId": "c9615d76-ea89-4dab-b669-816b1cda8f38"
      },
      "execution_count": 82,
      "outputs": [
        {
          "output_type": "stream",
          "name": "stdout",
          "text": [
            "Color : blue\n",
            "Price : 250\n",
            "Fabric : cotton\n"
          ]
        }
      ]
    },
    {
      "cell_type": "code",
      "source": [
        "Hemanth = Shirt(\"black\",333,\"nylon\")\n",
        "Hemanth.show()"
      ],
      "metadata": {
        "colab": {
          "base_uri": "https://localhost:8080/"
        },
        "id": "WHhGmWOcuKSu",
        "outputId": "604e6f92-9537-4e4b-a5d9-213e40c1f02b"
      },
      "execution_count": 83,
      "outputs": [
        {
          "output_type": "stream",
          "name": "stdout",
          "text": [
            "Color : black\n",
            "Price : 333\n",
            "Fabric : nylon\n"
          ]
        }
      ]
    },
    {
      "cell_type": "code",
      "source": [
        "Hemanth.update(500)  # updating pants in S1 object not in S object\n",
        "Hemanth.show()"
      ],
      "metadata": {
        "colab": {
          "base_uri": "https://localhost:8080/"
        },
        "id": "JRl1tmB0uZs0",
        "outputId": "f7405ae6-5532-4a61-e1bd-4b4288970ce0"
      },
      "execution_count": 84,
      "outputs": [
        {
          "output_type": "stream",
          "name": "stdout",
          "text": [
            "price updated successful\n",
            "Color : black\n",
            "Price : 500\n",
            "Fabric : nylon\n"
          ]
        }
      ]
    },
    {
      "cell_type": "code",
      "source": [
        "print(\"Dinesh shopping\")\n",
        "Dinesh.show()\n",
        "print()\n",
        "print(\"*\"*19)\n",
        "print()\n",
        "print(\"Hemanth shopping\")\n",
        "Hemanth.show()"
      ],
      "metadata": {
        "colab": {
          "base_uri": "https://localhost:8080/"
        },
        "id": "mgTBWZpqufnM",
        "outputId": "cfade201-d2cb-45b3-d9d1-754eadfbdcbc"
      },
      "execution_count": 92,
      "outputs": [
        {
          "output_type": "stream",
          "name": "stdout",
          "text": [
            "Dinesh shopping\n",
            "Color : blue\n",
            "Price : 250\n",
            "Fabric : cotton\n",
            "\n",
            "*******************\n",
            "\n",
            "Hemanth shopping\n",
            "Color : black\n",
            "Price : 500\n",
            "Fabric : nylon\n"
          ]
        }
      ]
    },
    {
      "cell_type": "code",
      "source": [
        ""
      ],
      "metadata": {
        "id": "QGgYRiUlyIwN"
      },
      "execution_count": null,
      "outputs": []
    }
  ]
}