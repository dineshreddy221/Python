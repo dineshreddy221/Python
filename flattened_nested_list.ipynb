{
  "nbformat": 4,
  "nbformat_minor": 0,
  "metadata": {
    "colab": {
      "provenance": [],
      "mount_file_id": "1QC8aqJ1jmDgvbL2AcMXxASh61JIgRZdQ",
      "authorship_tag": "ABX9TyMvQ6iH7cdBcfbFewmQ7r1w",
      "include_colab_link": true
    },
    "kernelspec": {
      "name": "python3",
      "display_name": "Python 3"
    },
    "language_info": {
      "name": "python"
    }
  },
  "cells": [
    {
      "cell_type": "markdown",
      "metadata": {
        "id": "view-in-github",
        "colab_type": "text"
      },
      "source": [
        "<a href=\"https://colab.research.google.com/github/dineshreddy221/Python/blob/main/flattened_nested_list.ipynb\" target=\"_parent\"><img src=\"https://colab.research.google.com/assets/colab-badge.svg\" alt=\"Open In Colab\"/></a>"
      ]
    },
    {
      "cell_type": "code",
      "source": [
        "# flattening the nested list\n",
        "l = [1,2,3,['a','b',1],'a',2,[2]]\n",
        "#output : [1,2,3,'a','b']\n",
        "\n",
        "lst = []\n",
        "for i in l:\n",
        "  if type(i) == int:\n",
        "    lst.append(i)\n",
        "  elif type(i) == list:\n",
        "    for elem in i:\n",
        "      if type(elem) == str:\n",
        "        lst.append(elem)\n",
        "    break\n",
        "\n",
        "print(lst)"
      ],
      "metadata": {
        "colab": {
          "base_uri": "https://localhost:8080/"
        },
        "id": "CClOwOo1UES4",
        "outputId": "ba3dd8a2-b4e5-4fff-f6db-934cdb42f07f"
      },
      "execution_count": null,
      "outputs": [
        {
          "output_type": "stream",
          "name": "stdout",
          "text": [
            "[1, 2, 3, 'a', 'b']\n"
          ]
        }
      ]
    },
    {
      "cell_type": "code",
      "source": [
        "# separate different data types to list of nested categories\n",
        "l_1 = [\"code\", \"meat\",['a','b',1],'a',\"img\",\"stress\"]\n",
        "# output :[[\"code\", \"meat\", 'a','b', 'img', 'stress'],[1]]\n",
        "\n",
        "str_lst = []\n",
        "for string in l_1:\n",
        "  if type(string) == str:\n",
        "    str_lst.append(string)\n",
        "  if type(string) == list:\n",
        "    for elem in string:\n",
        "      if type(elem) == str:\n",
        "        str_lst.append(elem)\n",
        "      else:\n",
        "        str_lst.insert(len(str_lst), elem)\n",
        "print(str_lst)\n"
      ],
      "metadata": {
        "id": "hn-lvSUYaXQu",
        "colab": {
          "base_uri": "https://localhost:8080/"
        },
        "outputId": "38948868-a816-4147-da0c-94ef1aa0ad91"
      },
      "execution_count": null,
      "outputs": [
        {
          "output_type": "stream",
          "name": "stdout",
          "text": [
            "['code', 'meat', 'a', 'b', 1, 'a', 'img', 'stress']\n"
          ]
        }
      ]
    },
    {
      "cell_type": "code",
      "source": [
        "# nested nested list with integer, strings.\n",
        "nested_nested_list = [[1, 2, [3, 4, [5, 6, 7]], 8], ['a', 'b', ['c', 'd', ['e', 'f']]]]\n",
        "# output: [1, 2, 3, 4, 5, 6, 7, 8, 'a', 'b', 'c', 'd', 'e', 'f']\n",
        "\n",
        "lst = []\n",
        "for elem in nested_nested_list:\n",
        "  for lst_elem in elem:\n",
        "    if type(lst_elem) == int:\n",
        "      # lst.insert(len(lst), lst_elem)\n",
        "      lst.append(lst_elem)\n",
        "    else:\n",
        "      for i in lst_elem:\n",
        "        if type(i) == int:\n",
        "          lst.append(i)\n",
        "        else:\n",
        "          if type(i) == list:\n",
        "            for last_lst in i:\n",
        "              lst.append(last_lst)\n",
        "          else:\n",
        "            if type(i) == str:\n",
        "              lst.append(i)\n",
        "\n",
        "print(lst)"
      ],
      "metadata": {
        "id": "ywYcDq80afrG",
        "colab": {
          "base_uri": "https://localhost:8080/"
        },
        "outputId": "a9c70b23-b25e-4421-9e9b-e8d0931d3dea"
      },
      "execution_count": null,
      "outputs": [
        {
          "output_type": "stream",
          "name": "stdout",
          "text": [
            "[1, 2, 3, 4, 5, 6, 7, 8, 'a', 'b', 'c', 'd', 'e', 'f']\n"
          ]
        }
      ]
    },
    {
      "cell_type": "code",
      "source": [
        "# Nested nested list with integer and string elements:\n",
        "nested_nested_list_1 = [[1, 2, [3, 4, ['a', 'b']], 5], ['c', 'd', ['e', 'f', [6, 7, 8]]]]\n",
        "# output: [1, 2, 3, 4, 'a', 'b', 5, 'c', 'd', 'e', 'f', 6, 7, 8]\n",
        "\n",
        "lst_3 = []\n",
        "for nes_nes_lst in nested_nested_list_1:\n",
        "  for nes_lst in nes_nes_lst:\n",
        "    if type(nes_lst) == int:\n",
        "      lst_3.append(nes_lst)\n",
        "    if type(nes_lst) == list:\n",
        "      for elem in nes_lst:\n",
        "        if type(elem) == int:\n",
        "          lst_3.append(elem)\n",
        "        if type(elem) == str:\n",
        "          lst_3.append(elem)\n",
        "        if type(elem) == list:\n",
        "          for elem_1 in elem:\n",
        "            lst_3.append(elem_1)\n",
        "    if type(nes_lst) == str:\n",
        "      lst_3.append(nes_lst)\n",
        "\n",
        "print(\"original nested nested list\", nested_nested_list_1)\n",
        "\n",
        "print(\"list of flatten values\",lst_3)\n"
      ],
      "metadata": {
        "colab": {
          "base_uri": "https://localhost:8080/"
        },
        "id": "LONkVGWvdVXw",
        "outputId": "841ce724-1312-4a25-e577-be00611b5f07"
      },
      "execution_count": null,
      "outputs": [
        {
          "output_type": "stream",
          "name": "stdout",
          "text": [
            "original nested nested list [[1, 2, [3, 4, ['a', 'b']], 5], ['c', 'd', ['e', 'f', [6, 7, 8]]]]\n",
            "list of flatten values [1, 2, 3, 4, 'a', 'b', 5, 'c', 'd', 'e', 'f', 6, 7, 8]\n"
          ]
        }
      ]
    },
    {
      "cell_type": "code",
      "source": [
        "# Nested nested list with boolean and list elements\n",
        "nested_nested_list_2 = [[True, False, [True, True, [False, True]], False], [['a', 'b'], ['c', 'd'], [['e'], ['f', 'g']]]]\n",
        "# output: [True, False, True, True, False, True, False, 'a', 'b', 'c', 'd', 'e', 'f', 'g']\n",
        "\n",
        "lst_4 = []\n",
        "for nes_nes_lst_2 in nested_nested_list_2:\n",
        "  for nes_lst_2 in nes_nes_lst_2:\n",
        "    # print(nes_lst_2)\n",
        "    if type(nes_lst_2) == bool:\n",
        "      lst_4.append(nes_lst_2)\n",
        "    if type(nes_lst_2) == list:\n",
        "      for nes_elem in nes_lst_2:\n",
        "        if type(nes_elem) == bool:\n",
        "          lst_4.append(nes_elem)\n",
        "        if type(nes_elem) == list:\n",
        "          for nes_elem_lst in nes_elem:\n",
        "            lst_4.append(nes_elem_lst)\n",
        "\n",
        "        if type(nes_elem) == str:\n",
        "          lst_4.append(nes_elem)\n",
        "\n",
        "print(\"flattened list of values\",lst_4)"
      ],
      "metadata": {
        "colab": {
          "base_uri": "https://localhost:8080/"
        },
        "id": "TS8SLnIisbOb",
        "outputId": "24c6cca8-bf26-4075-cac8-a1bea255156b"
      },
      "execution_count": null,
      "outputs": [
        {
          "output_type": "stream",
          "name": "stdout",
          "text": [
            "flattened list of values [True, False, True, True, False, True, False, 'a', 'b', 'c', 'd', 'e', 'f', 'g']\n"
          ]
        }
      ]
    },
    {
      "cell_type": "code",
      "source": [
        "# Nested nested list with mixed data types\n",
        "nested_nested_list_3 = [['apple', 'banana', [1, 2, 3]], [4, 5, ['cat', 'dog', ['elephant', 6, 7]]]]\n",
        "# output: ['apple', 'banana', 1, 2, 3, 4, 5, 'cat', 'dog', 'elephant', 6, 7]\n",
        "\n",
        "lst_5 = []\n",
        "for nes_nes_lst_3 in nested_nested_list_3:\n",
        "  for nes_lst in nes_nes_lst_3:\n",
        "    # print(nes_lst)\n",
        "    if type(nes_lst) == str:\n",
        "      lst_5.append(nes_lst)\n",
        "    if type(nes_lst) == int:\n",
        "     lst_5.append(nes_lst)\n",
        "    if type(nes_lst) == list:\n",
        "      for elem in nes_lst:\n",
        "        if type(elem) == int:\n",
        "          lst_5.append(elem)\n",
        "        if type(elem) == str:\n",
        "          lst_5.append(elem)\n",
        "        if type(elem) == list:\n",
        "          for nes_elem in elem:\n",
        "            lst_5.append(nes_elem)\n",
        "\n",
        "\n",
        "\n",
        "print(\"flatened list of values\", lst_5)"
      ],
      "metadata": {
        "colab": {
          "base_uri": "https://localhost:8080/"
        },
        "id": "7l7QHe7psbLj",
        "outputId": "b28ba1c8-c705-4df9-dbbe-b35ca635bae4"
      },
      "execution_count": 175,
      "outputs": [
        {
          "output_type": "stream",
          "name": "stdout",
          "text": [
            "flatened list of values ['apple', 'banana', 1, 2, 3, 4, 5, 'cat', 'dog', 'elephant', 6, 7]\n"
          ]
        }
      ]
    },
    {
      "cell_type": "code",
      "source": [],
      "metadata": {
        "id": "XeJRFj_N41VW"
      },
      "execution_count": null,
      "outputs": []
    }
  ]
}