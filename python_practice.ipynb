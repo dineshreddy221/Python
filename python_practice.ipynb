{
  "nbformat": 4,
  "nbformat_minor": 0,
  "metadata": {
    "colab": {
      "name": "python_practice.ipynb",
      "provenance": [],
      "collapsed_sections": [],
      "authorship_tag": "ABX9TyMIl2iLC+6RE3I2kpcQqXyv",
      "include_colab_link": true
    },
    "kernelspec": {
      "name": "python3",
      "display_name": "Python 3"
    },
    "language_info": {
      "name": "python"
    }
  },
  "cells": [
    {
      "cell_type": "markdown",
      "metadata": {
        "id": "view-in-github",
        "colab_type": "text"
      },
      "source": [
        "<a href=\"https://colab.research.google.com/github/dineshreddy221/Python/blob/main/python_practice.ipynb\" target=\"_parent\"><img src=\"https://colab.research.google.com/assets/colab-badge.svg\" alt=\"Open In Colab\"/></a>"
      ]
    },
    {
      "cell_type": "code",
      "execution_count": 2,
      "metadata": {
        "colab": {
          "base_uri": "https://localhost:8080/"
        },
        "id": "m4vymUAjqMZi",
        "outputId": "31657368-c64a-4ade-eec2-4494c44af650"
      },
      "outputs": [
        {
          "output_type": "stream",
          "name": "stdout",
          "text": [
            "4567\n",
            "4567.0\n"
          ]
        }
      ],
      "source": [
        "number = int(input())\n",
        "float_number = float(number)\n",
        "print(float_number)"
      ]
    },
    {
      "cell_type": "code",
      "source": [
        "# creating list and dictionary and accesing the attributes.\n",
        "lst = [1,\"dines\"]\n",
        "dist = {\"name\":\"ram\",\"des\":\"ds\"}\n",
        "a = lst[1]\n",
        "b = dist['name']\n",
        "a,b"
      ],
      "metadata": {
        "colab": {
          "base_uri": "https://localhost:8080/"
        },
        "id": "HK6bIrF1qfnQ",
        "outputId": "217976e3-4d8b-4060-f9cb-5af561093b2c"
      },
      "execution_count": 3,
      "outputs": [
        {
          "output_type": "execute_result",
          "data": {
            "text/plain": [
              "('dines', 'ram')"
            ]
          },
          "metadata": {},
          "execution_count": 3
        }
      ]
    },
    {
      "cell_type": "code",
      "source": [
        "# creating the two different list as key and values and mapping the list to dictionary.\n",
        "keys = ['hi','hello','thanks']\n",
        "values = ['dinesh','ramesh','welcome']\n",
        "\n",
        "mydict = dict(zip(keys,values)) # zip pairs the first element of keys and values and to end of values as a pair.\n",
        "mydict"
      ],
      "metadata": {
        "id": "fgnM0KsErmq3",
        "colab": {
          "base_uri": "https://localhost:8080/"
        },
        "outputId": "055a81f4-69d5-478e-ff1b-728af821405e"
      },
      "execution_count": 4,
      "outputs": [
        {
          "output_type": "execute_result",
          "data": {
            "text/plain": [
              "{'hello': 'ramesh', 'hi': 'dinesh', 'thanks': 'welcome'}"
            ]
          },
          "metadata": {},
          "execution_count": 4
        }
      ]
    },
    {
      "cell_type": "markdown",
      "source": [
        "# zip method"
      ],
      "metadata": {
        "id": "gNE3b1IXnZWg"
      }
    },
    {
      "cell_type": "code",
      "source": [
        "lst = [\"color\",\"theme\",\"product\",\"name\"]\n",
        "lst1 = [\"blue\", \"racing\",\"rx100\", \"yamaha\"]\n",
        "\n",
        "zipping = zip(lst,lst1)\n",
        "print(dict(zipping))"
      ],
      "metadata": {
        "colab": {
          "base_uri": "https://localhost:8080/"
        },
        "id": "t3tgZv2TnYnm",
        "outputId": "422150f4-f180-4643-a284-a494f3e35d5e"
      },
      "execution_count": 5,
      "outputs": [
        {
          "output_type": "stream",
          "name": "stdout",
          "text": [
            "{'color': 'blue', 'theme': 'racing', 'product': 'rx100', 'name': 'yamaha'}\n"
          ]
        }
      ]
    },
    {
      "cell_type": "code",
      "source": [
        "lst = [1,\"dines\"]\n",
        "dist = {\"name\":\"ram\",\"des\":\"ds\"}\n",
        "\n",
        "mydict = dist.keys()\n",
        "keys = []\n",
        "for i in range(len(lst)):\n",
        "  keys.append(lst[i])\n",
        "print(keys)"
      ],
      "metadata": {
        "colab": {
          "base_uri": "https://localhost:8080/"
        },
        "id": "LqHmG7N_1Cc1",
        "outputId": "a49b9320-70a2-4087-deda-76ea1226262d"
      },
      "execution_count": 6,
      "outputs": [
        {
          "output_type": "stream",
          "name": "stdout",
          "text": [
            "[1, 'dines']\n"
          ]
        }
      ]
    },
    {
      "cell_type": "markdown",
      "source": [
        "Mapping "
      ],
      "metadata": {
        "id": "9ZVRsQ9v46Ps"
      }
    },
    {
      "cell_type": "code",
      "source": [
        "# converting list to dictionary.\n",
        "lst = [1,2,\"red\",3,4,\"blue\",5,6]\n",
        "lst1 = [12,23,\"color\",32,33,\"rainbow\",9,78]\n",
        "\n",
        "mydict = dict(zip(lst1,lst))\n",
        "mydict"
      ],
      "metadata": {
        "colab": {
          "base_uri": "https://localhost:8080/"
        },
        "id": "wOPvtlFs6Co1",
        "outputId": "94d13faf-5cc0-4326-d0c2-4522235abdda"
      },
      "execution_count": 7,
      "outputs": [
        {
          "output_type": "execute_result",
          "data": {
            "text/plain": [
              "{12: 1, 23: 2, 32: 3, 33: 4, 78: 6, 9: 5, 'color': 'red', 'rainbow': 'blue'}"
            ]
          },
          "metadata": {},
          "execution_count": 7
        }
      ]
    },
    {
      "cell_type": "code",
      "source": [
        "# map syntax = map(function, iterables)\n",
        "a = map(eval,input().strip().split())\n",
        "print(list(a))"
      ],
      "metadata": {
        "colab": {
          "base_uri": "https://localhost:8080/"
        },
        "id": "a-b59qKn_Gks",
        "outputId": "f758600d-3203-4039-9368-722117bed540"
      },
      "execution_count": 15,
      "outputs": [
        {
          "output_type": "stream",
          "name": "stdout",
          "text": [
            "23 45 65 66 4567 765\n",
            "[23, 45, 65, 66, 4567, 765]\n"
          ]
        }
      ]
    },
    {
      "cell_type": "code",
      "source": [
        "def fun(a,b,c):\n",
        "  return a*b + c\n",
        "\n",
        "result = map(fun,(1,2,3,4,5),(23,34,45,56,6),(1,3,2,4,5))\n",
        "print(list(result))"
      ],
      "metadata": {
        "id": "Q08goqTgBAig",
        "colab": {
          "base_uri": "https://localhost:8080/"
        },
        "outputId": "2d374785-99d6-4821-871b-d69925022236"
      },
      "execution_count": 16,
      "outputs": [
        {
          "output_type": "stream",
          "name": "stdout",
          "text": [
            "[24, 71, 137, 228, 35]\n"
          ]
        }
      ]
    },
    {
      "cell_type": "code",
      "source": [
        "# zip method difference in tupple to dictionary.\n",
        "lst = (1,2,\"red\",3,4,\"blue\",5,6)\n",
        "lst1 = (12,23,\"color\",32,33,\"rainbow\",9,78)\n",
        "\n",
        "mydit = dict(zip(lst,lst1))\n",
        "print(mydit)"
      ],
      "metadata": {
        "id": "Rtd3vgZoDceI",
        "colab": {
          "base_uri": "https://localhost:8080/"
        },
        "outputId": "ffd9b318-7bd5-441e-a8d8-8ed6f3205a2a"
      },
      "execution_count": 17,
      "outputs": [
        {
          "output_type": "stream",
          "name": "stdout",
          "text": [
            "{1: 12, 2: 23, 'red': 'color', 3: 32, 4: 33, 'blue': 'rainbow', 5: 9, 6: 78}\n"
          ]
        }
      ]
    },
    {
      "cell_type": "code",
      "source": [
        "# zip method difference in list to dictionary.\n",
        "lst = [1,2,\"red\",3,4,\"blue\",5,6]\n",
        "lst1 = [12,23,\"color\",32,33,\"rainbow\",9,78]\n",
        "\n",
        "mydit1 = dict(zip(lst,lst1))\n",
        "mydit1"
      ],
      "metadata": {
        "colab": {
          "base_uri": "https://localhost:8080/"
        },
        "id": "TYkCxSeZpSrR",
        "outputId": "ed59a3cb-f282-40fa-f402-2b5b171a7560"
      },
      "execution_count": 18,
      "outputs": [
        {
          "output_type": "execute_result",
          "data": {
            "text/plain": [
              "{1: 12, 2: 23, 3: 32, 4: 33, 5: 9, 6: 78, 'blue': 'rainbow', 'red': 'color'}"
            ]
          },
          "metadata": {},
          "execution_count": 18
        }
      ]
    },
    {
      "cell_type": "markdown",
      "source": [
        "# Define function"
      ],
      "metadata": {
        "id": "1yYfp05wvoPa"
      }
    },
    {
      "cell_type": "code",
      "source": [
        "# deinif a function using local and global variable.\n",
        "x = \"awesome\" # global variable\n",
        "\n",
        "def myfunc():\n",
        "  x = \"fantastic\"  # local variable\n",
        "  print(\"Assent is \" + x)\n",
        "\n",
        "myfunc()\n",
        "\n",
        "print(\"fragnance is \" + x)"
      ],
      "metadata": {
        "colab": {
          "base_uri": "https://localhost:8080/"
        },
        "id": "xW04q615pshx",
        "outputId": "3b148285-7e57-4ee1-cddc-8129f79dc1f2"
      },
      "execution_count": 19,
      "outputs": [
        {
          "output_type": "stream",
          "name": "stdout",
          "text": [
            "Assent is fantastic\n",
            "fragnance is awesome\n"
          ]
        }
      ]
    },
    {
      "cell_type": "code",
      "source": [
        "# defining a global variable.\n",
        "x = \"awesome\"\n",
        "\n",
        "def myfunc():\n",
        "   print(\"car smell is \" + x)\n",
        "\n",
        "myfunc()\n",
        "\n",
        "print(\"interior is \" + x)"
      ],
      "metadata": {
        "colab": {
          "base_uri": "https://localhost:8080/"
        },
        "id": "jEs8Dwzts46P",
        "outputId": "14980522-91dc-4421-8683-176d39bcd936"
      },
      "execution_count": 20,
      "outputs": [
        {
          "output_type": "stream",
          "name": "stdout",
          "text": [
            "car smell is awesome\n",
            "interior is awesome\n"
          ]
        }
      ]
    },
    {
      "cell_type": "code",
      "source": [
        "# defining global keyword inside a function.\n",
        "def myfunc():\n",
        "  global x\n",
        "  x = \"fantastic\"\n",
        "def name():\n",
        "\tprint(\"we are globally \"+ x)\n",
        "\n",
        "myfunc()\n",
        "name()\n",
        "print(\"your are \" + x)\n"
      ],
      "metadata": {
        "colab": {
          "base_uri": "https://localhost:8080/"
        },
        "id": "wIeR9yHIuDrG",
        "outputId": "44efcf44-4ad5-49e6-e5b6-9454852a2bf5"
      },
      "execution_count": 21,
      "outputs": [
        {
          "output_type": "stream",
          "name": "stdout",
          "text": [
            "we are globally fantastic\n",
            "your are fantastic\n"
          ]
        }
      ]
    },
    {
      "cell_type": "code",
      "source": [
        ""
      ],
      "metadata": {
        "id": "9YlGddV9vdwD"
      },
      "execution_count": null,
      "outputs": []
    },
    {
      "cell_type": "markdown",
      "source": [
        "# list comprehension"
      ],
      "metadata": {
        "id": "s_JZYNgive8J"
      }
    },
    {
      "cell_type": "code",
      "source": [
        "range_lst = [x for x in range(10)]\n",
        "even_lst = [x for x in range(10) if x%2==0]\n",
        "odd_lst = [x for x in range(15,30) if x%2 !=0]\n",
        "print(\"list :\",range_lst, \"even :\",even_lst, \"odd :\",odd_lst, sep ='\\n')"
      ],
      "metadata": {
        "colab": {
          "base_uri": "https://localhost:8080/"
        },
        "id": "lRsOYshjvkXM",
        "outputId": "01690738-8024-435f-86e5-91000e08615b"
      },
      "execution_count": 22,
      "outputs": [
        {
          "output_type": "stream",
          "name": "stdout",
          "text": [
            "list :\n",
            "[0, 1, 2, 3, 4, 5, 6, 7, 8, 9]\n",
            "even :\n",
            "[0, 2, 4, 6, 8]\n",
            "odd :\n",
            "[15, 17, 19, 21, 23, 25, 27, 29]\n"
          ]
        }
      ]
    },
    {
      "cell_type": "markdown",
      "source": [
        "List sorting"
      ],
      "metadata": {
        "id": "DF6PSGYAx8Qe"
      }
    },
    {
      "cell_type": "code",
      "source": [
        "# categorical list sorting\n",
        "lst = [\"red\", \"blue\", \"green\",\"orange\",\"black\"]\n",
        "lst.sort()\n",
        "print(lst)"
      ],
      "metadata": {
        "colab": {
          "base_uri": "https://localhost:8080/"
        },
        "id": "lyLxCQM2xFGK",
        "outputId": "7e80c7bd-2275-425b-bd90-d7bdb9b7f727"
      },
      "execution_count": 23,
      "outputs": [
        {
          "output_type": "stream",
          "name": "stdout",
          "text": [
            "['black', 'blue', 'green', 'orange', 'red']\n"
          ]
        }
      ]
    },
    {
      "cell_type": "code",
      "source": [
        "# categorical list sorting in descrnding order.\n",
        "st = [\"red\", \"blue\", \"green\",\"orange\",\"black\"]\n",
        "lst.sort(reverse = True)\n",
        "print(lst)"
      ],
      "metadata": {
        "colab": {
          "base_uri": "https://localhost:8080/"
        },
        "id": "Gmxgl4moyM9o",
        "outputId": "0c4cfe2f-13a9-4d0e-8673-133f7039a71a"
      },
      "execution_count": 24,
      "outputs": [
        {
          "output_type": "stream",
          "name": "stdout",
          "text": [
            "['red', 'orange', 'green', 'blue', 'black']\n"
          ]
        }
      ]
    },
    {
      "cell_type": "code",
      "source": [
        "lst = [\"red\", \"blue\", \"green\",\"orange\",\"black\"]\n",
        "lst.sort(key = str.capitalize)\n",
        "print(lst)"
      ],
      "metadata": {
        "colab": {
          "base_uri": "https://localhost:8080/"
        },
        "id": "WRp6hQ5azEGF",
        "outputId": "9c0b0e06-686b-4b31-9948-49aa4d7e57af"
      },
      "execution_count": 25,
      "outputs": [
        {
          "output_type": "stream",
          "name": "stdout",
          "text": [
            "['black', 'blue', 'green', 'orange', 'red']\n"
          ]
        }
      ]
    },
    {
      "cell_type": "code",
      "source": [
        "s= {1,2}\n",
        "s.add(('hjh','vjn'))\n",
        "s"
      ],
      "metadata": {
        "colab": {
          "base_uri": "https://localhost:8080/"
        },
        "id": "6qa5IVP50RFl",
        "outputId": "4631b75a-63b0-4b8a-dabc-851dda37b0bc"
      },
      "execution_count": 26,
      "outputs": [
        {
          "output_type": "execute_result",
          "data": {
            "text/plain": [
              "{('hjh', 'vjn'), 1, 2}"
            ]
          },
          "metadata": {},
          "execution_count": 26
        }
      ]
    },
    {
      "cell_type": "code",
      "source": [
        "def fullname(fstname,lstname):\n",
        "  print(fstname +\" \"+ lstname)"
      ],
      "metadata": {
        "id": "8VtbQPtV3I6p"
      },
      "execution_count": 28,
      "outputs": []
    },
    {
      "cell_type": "code",
      "source": [
        "fullname(\"uppuluri\", \"Dinesh reddy\")"
      ],
      "metadata": {
        "colab": {
          "base_uri": "https://localhost:8080/"
        },
        "id": "AoHmi4CNCnXL",
        "outputId": "093c980a-0224-4b78-ca4a-56919e450d11"
      },
      "execution_count": 30,
      "outputs": [
        {
          "output_type": "stream",
          "name": "stdout",
          "text": [
            "uppuluri Dinesh reddy\n"
          ]
        }
      ]
    },
    {
      "cell_type": "code",
      "source": [
        "fullname(\"ramesh\",\"reddy\")"
      ],
      "metadata": {
        "colab": {
          "base_uri": "https://localhost:8080/"
        },
        "id": "96TofIviCuWR",
        "outputId": "5a0ca210-4a84-4fe1-ebba-ea70a2aad207"
      },
      "execution_count": 31,
      "outputs": [
        {
          "output_type": "stream",
          "name": "stdout",
          "text": [
            "ramesh reddy\n"
          ]
        }
      ]
    },
    {
      "cell_type": "code",
      "source": [
        ""
      ],
      "metadata": {
        "id": "LHGzntWoC-uw"
      },
      "execution_count": null,
      "outputs": []
    },
    {
      "cell_type": "markdown",
      "source": [
        "Lambda function"
      ],
      "metadata": {
        "id": "-xgu372vDh85"
      }
    },
    {
      "cell_type": "code",
      "source": [
        "def multiple(n):\n",
        "  return lambda x: x*n\n",
        "\n",
        "mult = multiple(5)\n",
        "print(mult(8))\n",
        "  "
      ],
      "metadata": {
        "colab": {
          "base_uri": "https://localhost:8080/"
        },
        "id": "p5yVXerNDlar",
        "outputId": "38a35fbd-2e5c-40d8-c44b-5bd12e6f90c8"
      },
      "execution_count": 32,
      "outputs": [
        {
          "output_type": "stream",
          "name": "stdout",
          "text": [
            "40\n"
          ]
        }
      ]
    },
    {
      "cell_type": "code",
      "source": [
        "def bike(*names):\n",
        "  print(\"collection of bikes are {}\".format(names))\n",
        "\n",
        "bike('yamaha', 'pulsar','hero')"
      ],
      "metadata": {
        "colab": {
          "base_uri": "https://localhost:8080/"
        },
        "id": "8MkJG_UpGc82",
        "outputId": "25aa7343-aabb-4866-df15-0b4ba0a3af6a"
      },
      "execution_count": 33,
      "outputs": [
        {
          "output_type": "stream",
          "name": "stdout",
          "text": [
            "collection of bikes are ('yamaha', 'pulsar', 'hero')\n"
          ]
        }
      ]
    },
    {
      "cell_type": "code",
      "source": [
        ""
      ],
      "metadata": {
        "id": "CkwNGdr_HI9T"
      },
      "execution_count": null,
      "outputs": []
    }
  ]
}