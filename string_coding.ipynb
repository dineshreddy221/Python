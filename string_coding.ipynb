{
  "nbformat": 4,
  "nbformat_minor": 0,
  "metadata": {
    "colab": {
      "provenance": [],
      "authorship_tag": "ABX9TyP+KYkiUrtIlCQBOXBq/Fjp",
      "include_colab_link": true
    },
    "kernelspec": {
      "name": "python3",
      "display_name": "Python 3"
    },
    "language_info": {
      "name": "python"
    }
  },
  "cells": [
    {
      "cell_type": "markdown",
      "metadata": {
        "id": "view-in-github",
        "colab_type": "text"
      },
      "source": [
        "<a href=\"https://colab.research.google.com/github/dineshreddy221/Python/blob/main/string_coding.ipynb\" target=\"_parent\"><img src=\"https://colab.research.google.com/assets/colab-badge.svg\" alt=\"Open In Colab\"/></a>"
      ]
    },
    {
      "cell_type": "code",
      "execution_count": 1,
      "metadata": {
        "colab": {
          "base_uri": "https://localhost:8080/",
          "height": 53
        },
        "id": "XfXqXDEfHwpQ",
        "outputId": "a63ced56-7930-4f4e-cffa-50a7582445c1"
      },
      "outputs": [
        {
          "name": "stdout",
          "output_type": "stream",
          "text": [
            "input from user: string.rev.order.words\n"
          ]
        },
        {
          "output_type": "execute_result",
          "data": {
            "text/plain": [
              "'words.order.rev.string'"
            ],
            "application/vnd.google.colaboratory.intrinsic+json": {
              "type": "string"
            }
          },
          "metadata": {},
          "execution_count": 1
        }
      ],
      "source": [
        "# Reversing the word from thier position.\n",
        "def rev_word_str():\n",
        "  s = input(\"input from user: \")\n",
        "  word = s.split(\".\")\n",
        "  rev_sent = \".\".join(word[::-1])\n",
        "  return rev_sent\n",
        "\n",
        "rev_word_str()"
      ]
    },
    {
      "cell_type": "code",
      "source": [
        "# Reversed word with given string using class\n",
        "class Solution:\n",
        "    # Function to reverse words in a given string.\n",
        "    def rev_word_str(self):\n",
        "        s = input(\"Input from user: \")\n",
        "        words = s.split(\".\")\n",
        "        rev_sent = \".\".join(words[::-1])\n",
        "        return rev_sent\n",
        "\n",
        "# Create an instance of the Solution class\n",
        "sol = Solution()\n",
        "\n",
        "# Call the rev_word_str method\n",
        "result = sol.rev_word_str()\n",
        "print(\"Reversed string:\", result)\n"
      ],
      "metadata": {
        "colab": {
          "base_uri": "https://localhost:8080/"
        },
        "id": "4ys6Xl6hILN1",
        "outputId": "1d17328f-529e-4c76-ddcc-74eb716bd2c7"
      },
      "execution_count": 2,
      "outputs": [
        {
          "output_type": "stream",
          "name": "stdout",
          "text": [
            "Input from user: reversed.string.original\n",
            "Reversed string: original.string.reversed\n"
          ]
        }
      ]
    },
    {
      "cell_type": "code",
      "source": [
        " # Reverse the string with indexing\n",
        "s = input(\"input string: \")\n",
        "rev_w = s[::-1]\n",
        "print(\"reverse input word: \", rev_w)"
      ],
      "metadata": {
        "colab": {
          "base_uri": "https://localhost:8080/"
        },
        "id": "OfTaGs1rOL1h",
        "outputId": "c0f7c2ad-af4a-4a88-e555-ee1c0c49cf62"
      },
      "execution_count": 3,
      "outputs": [
        {
          "output_type": "stream",
          "name": "stdout",
          "text": [
            "input string: indexing\n",
            "reverse input word:  gnixedni\n"
          ]
        }
      ]
    },
    {
      "cell_type": "code",
      "source": [
        "string_slicing = input(\"input string from user: \")\n",
        "# output: Even positing of a string\n",
        "\n",
        "print(\"Even positioned string: \",\"-\".join(string_slicing[::2]))"
      ],
      "metadata": {
        "id": "s3EG94ozPfp3",
        "colab": {
          "base_uri": "https://localhost:8080/"
        },
        "outputId": "8145d11d-97f0-4262-8bba-909f2343e964"
      },
      "execution_count": 5,
      "outputs": [
        {
          "output_type": "stream",
          "name": "stdout",
          "text": [
            "input string from user: Architecture\n",
            "Even positioned string:  A-c-i-e-t-r\n"
          ]
        }
      ]
    },
    {
      "cell_type": "code",
      "source": [],
      "metadata": {
        "id": "V7gxrgLGSOM7"
      },
      "execution_count": null,
      "outputs": []
    }
  ]
}